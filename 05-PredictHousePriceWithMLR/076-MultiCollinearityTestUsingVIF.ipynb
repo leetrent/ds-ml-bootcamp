{
 "cells": [
  {
   "cell_type": "markdown",
   "metadata": {},
   "source": [
    "$$ TAX = \\alpha _0 + \\alpha _1 RM + \\alpha_2 NOX + ... + \\alpha _{12}LSTAT $$\n",
    "$$ VIF _{TAX} = \\frac{1}{(1 - R _{TAX} ^2)} $$"
   ]
  },
  {
   "cell_type": "markdown",
   "metadata": {},
   "source": [
    "Step 1:\n",
    "    Regression is being run on all features against tax:\n",
    "        $$ TAX = \\alpha _0 + \\alpha _1 RM + \\alpha_2 NOX + ... + \\alpha _{12}LSTAT $$"
   ]
  },
  {
   "cell_type": "markdown",
   "metadata": {},
   "source": [
    "Step 2: The R-Squared of the regresssion is used to calculate to calculate the <b>Variance Inflation Factor (VIF)</b>:\n",
    "$$ VIF _{TAX} = \\frac{1}{(1 - R _{TAX} ^2)} $$"
   ]
  },
  {
   "cell_type": "code",
   "execution_count": 3,
   "metadata": {},
   "outputs": [],
   "source": [
    "from sklearn.datasets import load_boston\n",
    "boston_dataset = load_boston()"
   ]
  },
  {
   "cell_type": "code",
   "execution_count": 6,
   "metadata": {},
   "outputs": [],
   "source": [
    "import pandas as pd\n",
    "data = pd.DataFrame(data=boston_dataset.data, columns=boston_dataset.feature_names)\n",
    "data['PRICE'] = boston_dataset.target"
   ]
  },
  {
   "cell_type": "code",
   "execution_count": 8,
   "metadata": {},
   "outputs": [],
   "source": [
    "import numpy as np\n",
    "prices = np.log(data['PRICE'])"
   ]
  },
  {
   "cell_type": "code",
   "execution_count": 9,
   "metadata": {},
   "outputs": [],
   "source": [
    "features = data.drop('PRICE', axis=1)"
   ]
  },
  {
   "cell_type": "code",
   "execution_count": 11,
   "metadata": {},
   "outputs": [],
   "source": [
    "from sklearn.model_selection import train_test_split\n",
    "X_train, X_test, y_train, y_test = train_test_split(features, prices,\n",
    "                                                    test_size=0.2, random_state=10)"
   ]
  },
  {
   "cell_type": "code",
   "execution_count": 16,
   "metadata": {},
   "outputs": [],
   "source": [
    "import statsmodels.api as sm\n",
    "from statsmodels.stats.outliers_influence import variance_inflation_factor"
   ]
  },
  {
   "cell_type": "code",
   "execution_count": 17,
   "metadata": {},
   "outputs": [],
   "source": [
    "X_incl_const = sm.add_constant(X_train)"
   ]
  },
  {
   "cell_type": "code",
   "execution_count": 20,
   "metadata": {},
   "outputs": [
    {
     "data": {
      "text/plain": [
       "pandas.core.frame.DataFrame"
      ]
     },
     "execution_count": 20,
     "metadata": {},
     "output_type": "execute_result"
    }
   ],
   "source": [
    "type(X_incl_const)"
   ]
  },
  {
   "cell_type": "code",
   "execution_count": 21,
   "metadata": {},
   "outputs": [
    {
     "data": {
      "text/plain": [
       "numpy.ndarray"
      ]
     },
     "execution_count": 21,
     "metadata": {},
     "output_type": "execute_result"
    }
   ],
   "source": [
    "type(X_incl_const.values)"
   ]
  },
  {
   "cell_type": "code",
   "execution_count": 22,
   "metadata": {},
   "outputs": [
    {
     "data": {
      "text/plain": [
       "1.7145250443932485"
      ]
     },
     "execution_count": 22,
     "metadata": {},
     "output_type": "execute_result"
    }
   ],
   "source": [
    "variance_inflation_factor(exog=X_incl_const.values, exog_idx=1)"
   ]
  },
  {
   "cell_type": "code",
   "execution_count": 31,
   "metadata": {},
   "outputs": [
    {
     "data": {
      "text/plain": [
       "14"
      ]
     },
     "execution_count": 31,
     "metadata": {},
     "output_type": "execute_result"
    }
   ],
   "source": [
    "len(X_incl_const.columns)"
   ]
  },
  {
   "cell_type": "code",
   "execution_count": 33,
   "metadata": {},
   "outputs": [
    {
     "name": "stdout",
     "output_type": "stream",
     "text": [
      "const\n",
      "CRIM\n",
      "ZN\n",
      "INDUS\n",
      "CHAS\n",
      "NOX\n",
      "RM\n",
      "AGE\n",
      "DIS\n",
      "RAD\n",
      "TAX\n",
      "PTRATIO\n",
      "B\n",
      "LSTAT\n"
     ]
    }
   ],
   "source": [
    "for idx in range(len(X_incl_const.columns)):\n",
    "    print(X_incl_const.columns[idx])"
   ]
  },
  {
   "cell_type": "code",
   "execution_count": 27,
   "metadata": {},
   "outputs": [
    {
     "data": {
      "text/plain": [
       "(404, 14)"
      ]
     },
     "execution_count": 27,
     "metadata": {},
     "output_type": "execute_result"
    }
   ],
   "source": [
    "X_incl_const.shape"
   ]
  },
  {
   "cell_type": "code",
   "execution_count": 28,
   "metadata": {},
   "outputs": [
    {
     "data": {
      "text/plain": [
       "14"
      ]
     },
     "execution_count": 28,
     "metadata": {},
     "output_type": "execute_result"
    }
   ],
   "source": [
    "X_incl_const.shape[1]"
   ]
  },
  {
   "cell_type": "code",
   "execution_count": 34,
   "metadata": {},
   "outputs": [
    {
     "name": "stdout",
     "output_type": "stream",
     "text": [
      "const\n",
      "CRIM\n",
      "ZN\n",
      "INDUS\n",
      "CHAS\n",
      "NOX\n",
      "RM\n",
      "AGE\n",
      "DIS\n",
      "RAD\n",
      "TAX\n",
      "PTRATIO\n",
      "B\n",
      "LSTAT\n"
     ]
    }
   ],
   "source": [
    "for idx in range(X_incl_const.shape[1]):\n",
    "    print(X_incl_const.columns[idx])"
   ]
  },
  {
   "cell_type": "code",
   "execution_count": 37,
   "metadata": {},
   "outputs": [
    {
     "name": "stdout",
     "output_type": "stream",
     "text": [
      "597.5487126763895\n",
      "1.7145250443932485\n",
      "2.3328224265597584\n",
      "3.943448822674636\n",
      "1.0788133385000578\n",
      "4.410320817897635\n",
      "1.8404053075678568\n",
      "3.3267660823099408\n",
      "4.222923410477865\n",
      "7.314299817005058\n",
      "8.508856493040817\n",
      "1.839911632651406\n",
      "1.3386713255364715\n",
      "2.812544292793034\n"
     ]
    }
   ],
   "source": [
    "for idx in range(len(X_incl_const.columns)):\n",
    "    print(variance_inflation_factor(exog=X_incl_const.values, exog_idx=idx))"
   ]
  },
  {
   "cell_type": "code",
   "execution_count": 38,
   "metadata": {},
   "outputs": [
    {
     "name": "stdout",
     "output_type": "stream",
     "text": [
      "597.5487126763895\n",
      "1.7145250443932485\n",
      "2.3328224265597584\n",
      "3.943448822674636\n",
      "1.0788133385000578\n",
      "4.410320817897635\n",
      "1.8404053075678568\n",
      "3.3267660823099408\n",
      "4.222923410477865\n",
      "7.314299817005058\n",
      "8.508856493040817\n",
      "1.839911632651406\n",
      "1.3386713255364715\n",
      "2.812544292793034\n"
     ]
    }
   ],
   "source": [
    "for idx in range(X_incl_const.shape[1]):\n",
    "    print(variance_inflation_factor(exog=X_incl_const.values, exog_idx=idx))    "
   ]
  },
  {
   "cell_type": "code",
   "execution_count": 40,
   "metadata": {},
   "outputs": [],
   "source": [
    "vif = [] # empty list\n",
    "for idx in range(X_incl_const.shape[1]):\n",
    "    vif.append(variance_inflation_factor(exog=X_incl_const.values, exog_idx=idx))    \n"
   ]
  },
  {
   "cell_type": "code",
   "execution_count": 44,
   "metadata": {},
   "outputs": [
    {
     "data": {
      "text/plain": [
       "[597.5487126763895,\n",
       " 1.7145250443932485,\n",
       " 2.3328224265597584,\n",
       " 3.943448822674636,\n",
       " 1.0788133385000578,\n",
       " 4.410320817897635,\n",
       " 1.8404053075678568,\n",
       " 3.3267660823099408,\n",
       " 4.222923410477865,\n",
       " 7.314299817005058,\n",
       " 8.508856493040817,\n",
       " 1.839911632651406,\n",
       " 1.3386713255364715,\n",
       " 2.812544292793034]"
      ]
     },
     "execution_count": 44,
     "metadata": {},
     "output_type": "execute_result"
    }
   ],
   "source": [
    "vif"
   ]
  },
  {
   "cell_type": "code",
   "execution_count": 46,
   "metadata": {},
   "outputs": [],
   "source": [
    "vif = [variance_inflation_factor(exog=X_incl_const.values, exog_idx=idx) \n",
    "       for idx in range(X_incl_const.shape[1])]"
   ]
  },
  {
   "cell_type": "code",
   "execution_count": 45,
   "metadata": {},
   "outputs": [
    {
     "data": {
      "text/plain": [
       "[597.5487126763895,\n",
       " 1.7145250443932485,\n",
       " 2.3328224265597584,\n",
       " 3.943448822674636,\n",
       " 1.0788133385000578,\n",
       " 4.410320817897635,\n",
       " 1.8404053075678568,\n",
       " 3.3267660823099408,\n",
       " 4.222923410477865,\n",
       " 7.314299817005058,\n",
       " 8.508856493040817,\n",
       " 1.839911632651406,\n",
       " 1.3386713255364715,\n",
       " 2.812544292793034]"
      ]
     },
     "execution_count": 45,
     "metadata": {},
     "output_type": "execute_result"
    }
   ],
   "source": [
    "vif"
   ]
  },
  {
   "cell_type": "code",
   "execution_count": 48,
   "metadata": {},
   "outputs": [
    {
     "data": {
      "text/html": [
       "<div>\n",
       "<style scoped>\n",
       "    .dataframe tbody tr th:only-of-type {\n",
       "        vertical-align: middle;\n",
       "    }\n",
       "\n",
       "    .dataframe tbody tr th {\n",
       "        vertical-align: top;\n",
       "    }\n",
       "\n",
       "    .dataframe thead th {\n",
       "        text-align: right;\n",
       "    }\n",
       "</style>\n",
       "<table border=\"1\" class=\"dataframe\">\n",
       "  <thead>\n",
       "    <tr style=\"text-align: right;\">\n",
       "      <th></th>\n",
       "      <th>coef_name</th>\n",
       "      <th>vif</th>\n",
       "    </tr>\n",
       "  </thead>\n",
       "  <tbody>\n",
       "    <tr>\n",
       "      <td>0</td>\n",
       "      <td>const</td>\n",
       "      <td>597.55</td>\n",
       "    </tr>\n",
       "    <tr>\n",
       "      <td>1</td>\n",
       "      <td>CRIM</td>\n",
       "      <td>1.71</td>\n",
       "    </tr>\n",
       "    <tr>\n",
       "      <td>2</td>\n",
       "      <td>ZN</td>\n",
       "      <td>2.33</td>\n",
       "    </tr>\n",
       "    <tr>\n",
       "      <td>3</td>\n",
       "      <td>INDUS</td>\n",
       "      <td>3.94</td>\n",
       "    </tr>\n",
       "    <tr>\n",
       "      <td>4</td>\n",
       "      <td>CHAS</td>\n",
       "      <td>1.08</td>\n",
       "    </tr>\n",
       "    <tr>\n",
       "      <td>5</td>\n",
       "      <td>NOX</td>\n",
       "      <td>4.41</td>\n",
       "    </tr>\n",
       "    <tr>\n",
       "      <td>6</td>\n",
       "      <td>RM</td>\n",
       "      <td>1.84</td>\n",
       "    </tr>\n",
       "    <tr>\n",
       "      <td>7</td>\n",
       "      <td>AGE</td>\n",
       "      <td>3.33</td>\n",
       "    </tr>\n",
       "    <tr>\n",
       "      <td>8</td>\n",
       "      <td>DIS</td>\n",
       "      <td>4.22</td>\n",
       "    </tr>\n",
       "    <tr>\n",
       "      <td>9</td>\n",
       "      <td>RAD</td>\n",
       "      <td>7.31</td>\n",
       "    </tr>\n",
       "    <tr>\n",
       "      <td>10</td>\n",
       "      <td>TAX</td>\n",
       "      <td>8.51</td>\n",
       "    </tr>\n",
       "    <tr>\n",
       "      <td>11</td>\n",
       "      <td>PTRATIO</td>\n",
       "      <td>1.84</td>\n",
       "    </tr>\n",
       "    <tr>\n",
       "      <td>12</td>\n",
       "      <td>B</td>\n",
       "      <td>1.34</td>\n",
       "    </tr>\n",
       "    <tr>\n",
       "      <td>13</td>\n",
       "      <td>LSTAT</td>\n",
       "      <td>2.81</td>\n",
       "    </tr>\n",
       "  </tbody>\n",
       "</table>\n",
       "</div>"
      ],
      "text/plain": [
       "   coef_name     vif\n",
       "0      const  597.55\n",
       "1       CRIM    1.71\n",
       "2         ZN    2.33\n",
       "3      INDUS    3.94\n",
       "4       CHAS    1.08\n",
       "5        NOX    4.41\n",
       "6         RM    1.84\n",
       "7        AGE    3.33\n",
       "8        DIS    4.22\n",
       "9        RAD    7.31\n",
       "10       TAX    8.51\n",
       "11   PTRATIO    1.84\n",
       "12         B    1.34\n",
       "13     LSTAT    2.81"
      ]
     },
     "execution_count": 48,
     "metadata": {},
     "output_type": "execute_result"
    }
   ],
   "source": [
    "pd.DataFrame( { 'coef_name': X_incl_const.columns, 'vif': np.around(vif, 2)} )"
   ]
  },
  {
   "cell_type": "markdown",
   "metadata": {},
   "source": [
    "### Any feature with a VIF of over 10 is considered problematic."
   ]
  },
  {
   "cell_type": "code",
   "execution_count": null,
   "metadata": {},
   "outputs": [],
   "source": []
  }
 ],
 "metadata": {
  "kernelspec": {
   "display_name": "Python 3",
   "language": "python",
   "name": "python3"
  },
  "language_info": {
   "codemirror_mode": {
    "name": "ipython",
    "version": 3
   },
   "file_extension": ".py",
   "mimetype": "text/x-python",
   "name": "python",
   "nbconvert_exporter": "python",
   "pygments_lexer": "ipython3",
   "version": "3.7.4"
  }
 },
 "nbformat": 4,
 "nbformat_minor": 2
}
