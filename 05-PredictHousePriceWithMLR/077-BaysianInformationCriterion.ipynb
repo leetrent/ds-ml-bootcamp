{
 "cells": [
  {
   "cell_type": "code",
   "execution_count": 1,
   "metadata": {},
   "outputs": [
    {
     "name": "stdout",
     "output_type": "stream",
     "text": [
      "The Zen of Python, by Tim Peters\n",
      "\n",
      "Beautiful is better than ugly.\n",
      "Explicit is better than implicit.\n",
      "Simple is better than complex.\n",
      "Complex is better than complicated.\n",
      "Flat is better than nested.\n",
      "Sparse is better than dense.\n",
      "Readability counts.\n",
      "Special cases aren't special enough to break the rules.\n",
      "Although practicality beats purity.\n",
      "Errors should never pass silently.\n",
      "Unless explicitly silenced.\n",
      "In the face of ambiguity, refuse the temptation to guess.\n",
      "There should be one-- and preferably only one --obvious way to do it.\n",
      "Although that way may not be obvious at first unless you're Dutch.\n",
      "Now is better than never.\n",
      "Although never is often better than *right* now.\n",
      "If the implementation is hard to explain, it's a bad idea.\n",
      "If the implementation is easy to explain, it may be a good idea.\n",
      "Namespaces are one honking great idea -- let's do more of those!\n"
     ]
    }
   ],
   "source": [
    "import this"
   ]
  },
  {
   "cell_type": "code",
   "execution_count": 2,
   "metadata": {},
   "outputs": [],
   "source": [
    "from sklearn.datasets import load_boston"
   ]
  },
  {
   "cell_type": "code",
   "execution_count": 3,
   "metadata": {},
   "outputs": [],
   "source": [
    "boston_dataset = load_boston()"
   ]
  },
  {
   "cell_type": "code",
   "execution_count": 4,
   "metadata": {},
   "outputs": [],
   "source": [
    "import pandas as pd"
   ]
  },
  {
   "cell_type": "code",
   "execution_count": 5,
   "metadata": {},
   "outputs": [],
   "source": [
    "data = pd.DataFrame(data=boston_dataset.data, columns=boston_dataset.feature_names)"
   ]
  },
  {
   "cell_type": "code",
   "execution_count": 6,
   "metadata": {},
   "outputs": [],
   "source": [
    "data['PRICE'] = boston_dataset.target"
   ]
  },
  {
   "cell_type": "code",
   "execution_count": 7,
   "metadata": {},
   "outputs": [],
   "source": [
    "import numpy as np"
   ]
  },
  {
   "cell_type": "code",
   "execution_count": 8,
   "metadata": {},
   "outputs": [],
   "source": [
    "prices = np.log(data['PRICE'])"
   ]
  },
  {
   "cell_type": "code",
   "execution_count": 9,
   "metadata": {},
   "outputs": [],
   "source": [
    "features = data.drop('PRICE', axis=1)"
   ]
  },
  {
   "cell_type": "code",
   "execution_count": 10,
   "metadata": {},
   "outputs": [],
   "source": [
    "from sklearn.model_selection import train_test_split"
   ]
  },
  {
   "cell_type": "code",
   "execution_count": 11,
   "metadata": {},
   "outputs": [],
   "source": [
    "X_train, X_test, y_train, y_test = train_test_split(features, prices,\n",
    "                                                    test_size=0.2, random_state=10)"
   ]
  },
  {
   "cell_type": "code",
   "execution_count": null,
   "metadata": {},
   "outputs": [],
   "source": []
  },
  {
   "cell_type": "code",
   "execution_count": 12,
   "metadata": {},
   "outputs": [],
   "source": [
    "import statsmodels.api as sm\n",
    "from statsmodels.stats.outliers_influence import variance_inflation_factor"
   ]
  },
  {
   "cell_type": "markdown",
   "metadata": {},
   "source": [
    "### Original model with log prices and all features:"
   ]
  },
  {
   "cell_type": "code",
   "execution_count": 13,
   "metadata": {},
   "outputs": [
    {
     "name": "stderr",
     "output_type": "stream",
     "text": [
      "C:\\Users\\Lee\\Anaconda3\\lib\\site-packages\\numpy\\core\\fromnumeric.py:2389: FutureWarning: Method .ptp is deprecated and will be removed in a future version. Use numpy.ptp instead.\n",
      "  return ptp(axis=axis, out=out, **kwargs)\n"
     ]
    }
   ],
   "source": [
    "X_incl_const = sm.add_constant(X_train)"
   ]
  },
  {
   "cell_type": "code",
   "execution_count": 14,
   "metadata": {},
   "outputs": [],
   "source": [
    "model = sm.OLS(y_train, X_incl_const)"
   ]
  },
  {
   "cell_type": "code",
   "execution_count": 15,
   "metadata": {},
   "outputs": [],
   "source": [
    "results = model.fit()"
   ]
  },
  {
   "cell_type": "code",
   "execution_count": 16,
   "metadata": {},
   "outputs": [],
   "source": [
    "orig_coef = pd.DataFrame( {'coef': results.params, 'p-value': results.pvalues})"
   ]
  },
  {
   "cell_type": "code",
   "execution_count": 17,
   "metadata": {},
   "outputs": [
    {
     "data": {
      "text/plain": [
       "-139.74997769478875"
      ]
     },
     "execution_count": 17,
     "metadata": {},
     "output_type": "execute_result"
    }
   ],
   "source": [
    "results.bic"
   ]
  },
  {
   "cell_type": "code",
   "execution_count": 18,
   "metadata": {},
   "outputs": [
    {
     "data": {
      "text/plain": [
       "0.7930234826697582"
      ]
     },
     "execution_count": 18,
     "metadata": {},
     "output_type": "execute_result"
    }
   ],
   "source": [
    "results.rsquared"
   ]
  },
  {
   "cell_type": "markdown",
   "metadata": {},
   "source": [
    "### Reduced Model #1 (exclude ['INDUS']):"
   ]
  },
  {
   "cell_type": "code",
   "execution_count": 19,
   "metadata": {},
   "outputs": [],
   "source": [
    "X_incl_const = sm.add_constant(X_train)"
   ]
  },
  {
   "cell_type": "code",
   "execution_count": 20,
   "metadata": {},
   "outputs": [],
   "source": [
    "X_incl_const = X_incl_const.drop(['INDUS'], axis=1)"
   ]
  },
  {
   "cell_type": "code",
   "execution_count": 21,
   "metadata": {},
   "outputs": [],
   "source": [
    "model = sm.OLS(y_train, X_incl_const)"
   ]
  },
  {
   "cell_type": "code",
   "execution_count": 22,
   "metadata": {},
   "outputs": [],
   "source": [
    "results = model.fit()"
   ]
  },
  {
   "cell_type": "code",
   "execution_count": 23,
   "metadata": {},
   "outputs": [],
   "source": [
    "coef_minus_indus = pd.DataFrame( {'coef': results.params, 'p-value': results.pvalues})"
   ]
  },
  {
   "cell_type": "code",
   "execution_count": 24,
   "metadata": {},
   "outputs": [
    {
     "data": {
      "text/plain": [
       "-145.14508855591163"
      ]
     },
     "execution_count": 24,
     "metadata": {},
     "output_type": "execute_result"
    }
   ],
   "source": [
    "results.bic"
   ]
  },
  {
   "cell_type": "code",
   "execution_count": 25,
   "metadata": {},
   "outputs": [
    {
     "data": {
      "text/plain": [
       "0.7927126289415163"
      ]
     },
     "execution_count": 25,
     "metadata": {},
     "output_type": "execute_result"
    }
   ],
   "source": [
    "results.rsquared"
   ]
  },
  {
   "cell_type": "markdown",
   "metadata": {},
   "source": [
    "### Reduced Model #2 (exclude ['INDUS', 'AGE']):"
   ]
  },
  {
   "cell_type": "code",
   "execution_count": 26,
   "metadata": {},
   "outputs": [],
   "source": [
    "X_incl_const = sm.add_constant(X_train)"
   ]
  },
  {
   "cell_type": "code",
   "execution_count": 27,
   "metadata": {},
   "outputs": [],
   "source": [
    "X_incl_const = X_incl_const.drop(['INDUS', 'AGE'], axis=1)"
   ]
  },
  {
   "cell_type": "code",
   "execution_count": 28,
   "metadata": {},
   "outputs": [],
   "source": [
    "model = sm.OLS(y_train, X_incl_const)"
   ]
  },
  {
   "cell_type": "code",
   "execution_count": 29,
   "metadata": {},
   "outputs": [],
   "source": [
    "results = model.fit()"
   ]
  },
  {
   "cell_type": "code",
   "execution_count": 30,
   "metadata": {},
   "outputs": [],
   "source": [
    "coef_minus_indus_age = pd.DataFrame( {'coef': results.params, 'p-value': results.pvalues})"
   ]
  },
  {
   "cell_type": "code",
   "execution_count": 31,
   "metadata": {},
   "outputs": [
    {
     "data": {
      "text/plain": [
       "-149.49934294224678"
      ]
     },
     "execution_count": 31,
     "metadata": {},
     "output_type": "execute_result"
    }
   ],
   "source": [
    "results.bic"
   ]
  },
  {
   "cell_type": "code",
   "execution_count": 32,
   "metadata": {},
   "outputs": [
    {
     "data": {
      "text/plain": [
       "0.7918657661852815"
      ]
     },
     "execution_count": 32,
     "metadata": {},
     "output_type": "execute_result"
    }
   ],
   "source": [
    "results.rsquared"
   ]
  },
  {
   "cell_type": "code",
   "execution_count": 33,
   "metadata": {},
   "outputs": [],
   "source": [
    "frames = [orig_coef, coef_minus_indus, coef_minus_indus_age]"
   ]
  },
  {
   "cell_type": "code",
   "execution_count": 34,
   "metadata": {},
   "outputs": [
    {
     "data": {
      "text/html": [
       "<div>\n",
       "<style scoped>\n",
       "    .dataframe tbody tr th:only-of-type {\n",
       "        vertical-align: middle;\n",
       "    }\n",
       "\n",
       "    .dataframe tbody tr th {\n",
       "        vertical-align: top;\n",
       "    }\n",
       "\n",
       "    .dataframe thead th {\n",
       "        text-align: right;\n",
       "    }\n",
       "</style>\n",
       "<table border=\"1\" class=\"dataframe\">\n",
       "  <thead>\n",
       "    <tr style=\"text-align: right;\">\n",
       "      <th></th>\n",
       "      <th>coef</th>\n",
       "      <th>p-value</th>\n",
       "      <th>coef</th>\n",
       "      <th>p-value</th>\n",
       "      <th>coef</th>\n",
       "      <th>p-value</th>\n",
       "    </tr>\n",
       "  </thead>\n",
       "  <tbody>\n",
       "    <tr>\n",
       "      <td>const</td>\n",
       "      <td>4.059944</td>\n",
       "      <td>1.188124e-52</td>\n",
       "      <td>4.056231</td>\n",
       "      <td>1.133656e-52</td>\n",
       "      <td>4.035922</td>\n",
       "      <td>1.872110e-52</td>\n",
       "    </tr>\n",
       "    <tr>\n",
       "      <td>CRIM</td>\n",
       "      <td>-0.010672</td>\n",
       "      <td>1.753774e-14</td>\n",
       "      <td>-0.010721</td>\n",
       "      <td>1.223780e-14</td>\n",
       "      <td>-0.010702</td>\n",
       "      <td>1.402961e-14</td>\n",
       "    </tr>\n",
       "    <tr>\n",
       "      <td>ZN</td>\n",
       "      <td>0.001579</td>\n",
       "      <td>8.607727e-03</td>\n",
       "      <td>0.001551</td>\n",
       "      <td>9.692334e-03</td>\n",
       "      <td>0.001461</td>\n",
       "      <td>1.412975e-02</td>\n",
       "    </tr>\n",
       "    <tr>\n",
       "      <td>INDUS</td>\n",
       "      <td>0.002030</td>\n",
       "      <td>4.445368e-01</td>\n",
       "      <td>NaN</td>\n",
       "      <td>NaN</td>\n",
       "      <td>NaN</td>\n",
       "      <td>NaN</td>\n",
       "    </tr>\n",
       "    <tr>\n",
       "      <td>CHAS</td>\n",
       "      <td>0.080331</td>\n",
       "      <td>3.824015e-02</td>\n",
       "      <td>0.082795</td>\n",
       "      <td>3.202870e-02</td>\n",
       "      <td>0.086449</td>\n",
       "      <td>2.491527e-02</td>\n",
       "    </tr>\n",
       "    <tr>\n",
       "      <td>NOX</td>\n",
       "      <td>-0.704068</td>\n",
       "      <td>2.729624e-05</td>\n",
       "      <td>-0.673365</td>\n",
       "      <td>3.497801e-05</td>\n",
       "      <td>-0.616448</td>\n",
       "      <td>7.898321e-05</td>\n",
       "    </tr>\n",
       "    <tr>\n",
       "      <td>RM</td>\n",
       "      <td>0.073404</td>\n",
       "      <td>1.089112e-04</td>\n",
       "      <td>0.071739</td>\n",
       "      <td>1.384438e-04</td>\n",
       "      <td>0.076133</td>\n",
       "      <td>4.002944e-05</td>\n",
       "    </tr>\n",
       "    <tr>\n",
       "      <td>AGE</td>\n",
       "      <td>0.000763</td>\n",
       "      <td>2.091731e-01</td>\n",
       "      <td>0.000766</td>\n",
       "      <td>2.070233e-01</td>\n",
       "      <td>NaN</td>\n",
       "      <td>NaN</td>\n",
       "    </tr>\n",
       "    <tr>\n",
       "      <td>DIS</td>\n",
       "      <td>-0.047633</td>\n",
       "      <td>1.812912e-07</td>\n",
       "      <td>-0.049394</td>\n",
       "      <td>2.315019e-08</td>\n",
       "      <td>-0.052692</td>\n",
       "      <td>5.106402e-10</td>\n",
       "    </tr>\n",
       "    <tr>\n",
       "      <td>RAD</td>\n",
       "      <td>0.014565</td>\n",
       "      <td>3.746363e-07</td>\n",
       "      <td>0.014014</td>\n",
       "      <td>4.176682e-07</td>\n",
       "      <td>0.013743</td>\n",
       "      <td>6.444522e-07</td>\n",
       "    </tr>\n",
       "    <tr>\n",
       "      <td>TAX</td>\n",
       "      <td>-0.000645</td>\n",
       "      <td>5.145680e-05</td>\n",
       "      <td>-0.000596</td>\n",
       "      <td>4.256333e-05</td>\n",
       "      <td>-0.000590</td>\n",
       "      <td>5.066749e-05</td>\n",
       "    </tr>\n",
       "    <tr>\n",
       "      <td>PTRATIO</td>\n",
       "      <td>-0.034795</td>\n",
       "      <td>7.549821e-09</td>\n",
       "      <td>-0.034126</td>\n",
       "      <td>9.706878e-09</td>\n",
       "      <td>-0.033481</td>\n",
       "      <td>1.615802e-08</td>\n",
       "    </tr>\n",
       "    <tr>\n",
       "      <td>B</td>\n",
       "      <td>0.000516</td>\n",
       "      <td>6.326839e-06</td>\n",
       "      <td>0.000511</td>\n",
       "      <td>7.395687e-06</td>\n",
       "      <td>0.000518</td>\n",
       "      <td>5.441377e-06</td>\n",
       "    </tr>\n",
       "    <tr>\n",
       "      <td>LSTAT</td>\n",
       "      <td>-0.031390</td>\n",
       "      <td>3.105305e-37</td>\n",
       "      <td>-0.031262</td>\n",
       "      <td>3.269973e-37</td>\n",
       "      <td>-0.030271</td>\n",
       "      <td>2.691780e-39</td>\n",
       "    </tr>\n",
       "  </tbody>\n",
       "</table>\n",
       "</div>"
      ],
      "text/plain": [
       "             coef       p-value      coef       p-value      coef  \\\n",
       "const    4.059944  1.188124e-52  4.056231  1.133656e-52  4.035922   \n",
       "CRIM    -0.010672  1.753774e-14 -0.010721  1.223780e-14 -0.010702   \n",
       "ZN       0.001579  8.607727e-03  0.001551  9.692334e-03  0.001461   \n",
       "INDUS    0.002030  4.445368e-01       NaN           NaN       NaN   \n",
       "CHAS     0.080331  3.824015e-02  0.082795  3.202870e-02  0.086449   \n",
       "NOX     -0.704068  2.729624e-05 -0.673365  3.497801e-05 -0.616448   \n",
       "RM       0.073404  1.089112e-04  0.071739  1.384438e-04  0.076133   \n",
       "AGE      0.000763  2.091731e-01  0.000766  2.070233e-01       NaN   \n",
       "DIS     -0.047633  1.812912e-07 -0.049394  2.315019e-08 -0.052692   \n",
       "RAD      0.014565  3.746363e-07  0.014014  4.176682e-07  0.013743   \n",
       "TAX     -0.000645  5.145680e-05 -0.000596  4.256333e-05 -0.000590   \n",
       "PTRATIO -0.034795  7.549821e-09 -0.034126  9.706878e-09 -0.033481   \n",
       "B        0.000516  6.326839e-06  0.000511  7.395687e-06  0.000518   \n",
       "LSTAT   -0.031390  3.105305e-37 -0.031262  3.269973e-37 -0.030271   \n",
       "\n",
       "              p-value  \n",
       "const    1.872110e-52  \n",
       "CRIM     1.402961e-14  \n",
       "ZN       1.412975e-02  \n",
       "INDUS             NaN  \n",
       "CHAS     2.491527e-02  \n",
       "NOX      7.898321e-05  \n",
       "RM       4.002944e-05  \n",
       "AGE               NaN  \n",
       "DIS      5.106402e-10  \n",
       "RAD      6.444522e-07  \n",
       "TAX      5.066749e-05  \n",
       "PTRATIO  1.615802e-08  \n",
       "B        5.441377e-06  \n",
       "LSTAT    2.691780e-39  "
      ]
     },
     "execution_count": 34,
     "metadata": {},
     "output_type": "execute_result"
    }
   ],
   "source": [
    "pd.concat(frames, axis=1, sort=False)"
   ]
  },
  {
   "cell_type": "code",
   "execution_count": null,
   "metadata": {},
   "outputs": [],
   "source": []
  }
 ],
 "metadata": {
  "kernelspec": {
   "display_name": "Python 3",
   "language": "python",
   "name": "python3"
  },
  "language_info": {
   "codemirror_mode": {
    "name": "ipython",
    "version": 3
   },
   "file_extension": ".py",
   "mimetype": "text/x-python",
   "name": "python",
   "nbconvert_exporter": "python",
   "pygments_lexer": "ipython3",
   "version": "3.7.4"
  }
 },
 "nbformat": 4,
 "nbformat_minor": 2
}
