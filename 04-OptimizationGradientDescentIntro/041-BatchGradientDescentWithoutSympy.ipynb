{
 "cells": [
  {
   "cell_type": "markdown",
   "metadata": {},
   "source": [
    "### Partial derivative formula for x:\n",
    "### $$\\frac{\\partial f}{\\partial x} = \\frac{2x \\ln(3)\\cdot 3^{-x^2 - y^2}} {\\left(3^ {-x^2 - y^2} + 1\\right)^2} $$\n",
    "### Partial derivative formula for y:\n",
    "### $$\\frac{\\partial f}{\\partial y} = \\frac{2y \\ln(3)\\cdot 3^{-x^2 - y^2}} {\\left(3^ {-x^2 - y^2} + 1\\right)^2} $$"
   ]
  },
  {
   "cell_type": "code",
   "execution_count": 1,
   "metadata": {},
   "outputs": [],
   "source": [
    "from math import log\n",
    "import numpy as np"
   ]
  },
  {
   "cell_type": "markdown",
   "metadata": {},
   "source": [
    "### Partial derivative function for x:"
   ]
  },
  {
   "cell_type": "code",
   "execution_count": 2,
   "metadata": {},
   "outputs": [],
   "source": [
    "def fpx(x, y):\n",
    "    r = 3**(-x**2 - y**2)\n",
    "    numerator = 2*x*log(3) * r\n",
    "    denominator = (r + 1)**2\n",
    "    return numerator / denominator"
   ]
  },
  {
   "cell_type": "markdown",
   "metadata": {},
   "source": [
    "### Partial derivative function for y:"
   ]
  },
  {
   "cell_type": "code",
   "execution_count": 3,
   "metadata": {},
   "outputs": [],
   "source": [
    "def fpy(x, y):\n",
    "    r = 3**(-x**2 - y**2)\n",
    "    numerator = 2*y*log(3) * r\n",
    "    denominator = (r + 1)**2\n",
    "    return numerator / denominator"
   ]
  },
  {
   "cell_type": "markdown",
   "metadata": {},
   "source": [
    "### Cost function:"
   ]
  },
  {
   "cell_type": "code",
   "execution_count": 4,
   "metadata": {},
   "outputs": [],
   "source": [
    "def f(x, y):\n",
    "    r = 3**(-x**2 -y**2)\n",
    "    return 1 / (r + 1)"
   ]
  },
  {
   "cell_type": "markdown",
   "metadata": {},
   "source": [
    "## Batch Gradient Descent without SymPy:"
   ]
  },
  {
   "cell_type": "markdown",
   "metadata": {},
   "source": [
    "#### Declare variables:"
   ]
  },
  {
   "cell_type": "code",
   "execution_count": 5,
   "metadata": {},
   "outputs": [],
   "source": [
    "multiplier = 0.1 # learning rate\n",
    "max_iter = 500\n",
    "initial_x = 1.8\n",
    "initial_y = 1.0\n",
    "params = np.array([initial_x, initial_y]) # initial guess"
   ]
  },
  {
   "cell_type": "code",
   "execution_count": 6,
   "metadata": {},
   "outputs": [
    {
     "name": "stdout",
     "output_type": "stream",
     "text": [
      "Gradient array values.....: [2.01013038e-11 1.11673910e-11]\n",
      "Minimum for 'x' occurs at.: 3.458385998858304e-11\n",
      "Minimum for 'y' occurs at.: 1.9213255549212797e-11\n",
      "Cost......................: 0.5\n"
     ]
    }
   ],
   "source": [
    "for nbr in range(max_iter):\n",
    "    \n",
    "    # Calculate cost: how far away we are from\n",
    "    # the minimum based on the steepness of slope.\n",
    "    gradient_x = fpx(params[0], params[1])\n",
    "    gradient_y = fpy(params[0], params[1])\n",
    "    gradients = np.array([gradient_x, gradient_y])\n",
    "    \n",
    "    # LEARNING STEP: UPDATE PARAMETERS\n",
    "    # Multiply each element in the gradients array\n",
    "    # by the multipier (learning rate) and subtract\n",
    "    # the result from the respective values currently\n",
    "    # in the params array.\n",
    "    params = params - multiplier * gradients\n",
    "    \n",
    "# Gradient Descent Algorithm Results:\n",
    "print('Gradient array values.....:', gradients)\n",
    "print('Minimum for \\'x\\' occurs at.:', params[0])\n",
    "print('Minimum for \\'y\\' occurs at.:', params[1])\n",
    "print('Cost......................:', f(params[0], params[1]))\n",
    "    "
   ]
  },
  {
   "cell_type": "code",
   "execution_count": null,
   "metadata": {},
   "outputs": [],
   "source": []
  }
 ],
 "metadata": {
  "kernelspec": {
   "display_name": "Python 3",
   "language": "python",
   "name": "python3"
  },
  "language_info": {
   "codemirror_mode": {
    "name": "ipython",
    "version": 3
   },
   "file_extension": ".py",
   "mimetype": "text/x-python",
   "name": "python",
   "nbconvert_exporter": "python",
   "pygments_lexer": "ipython3",
   "version": "3.7.4"
  }
 },
 "nbformat": 4,
 "nbformat_minor": 2
}
