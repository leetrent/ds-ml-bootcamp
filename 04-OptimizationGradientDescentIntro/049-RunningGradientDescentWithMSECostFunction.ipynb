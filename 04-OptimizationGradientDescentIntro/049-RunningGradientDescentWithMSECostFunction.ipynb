{
 "cells": [
  {
   "cell_type": "markdown",
   "metadata": {},
   "source": [
    "## Partial Derivative of MSE for $\\theta_0$:\n",
    "## $$\\frac{\\partial MSE}{\\partial \\theta_0} = - \\frac{2}{n} \\sum_{i=1}^{n} \\big( y^ {(i)} - \\theta_0 - \\theta_1 x^{(i)} \\big)$$"
   ]
  },
  {
   "cell_type": "markdown",
   "metadata": {},
   "source": [
    "## Partial Derivative of MSE for $\\theta_1$:\n",
    "## $$\\frac{\\partial MSE}{\\partial \\theta_1} = - \\frac{2}{n} \\sum_{i=1}^{n} \\big( y^ {(i)} - \\theta_0 - \\theta_1 x^{(i)} \\big) \\big( x^{(i)} \\big)$$"
   ]
  }
 ],
 "metadata": {
  "kernelspec": {
   "display_name": "Python 3",
   "language": "python",
   "name": "python3"
  },
  "language_info": {
   "codemirror_mode": {
    "name": "ipython",
    "version": 3
   },
   "file_extension": ".py",
   "mimetype": "text/x-python",
   "name": "python",
   "nbconvert_exporter": "python",
   "pygments_lexer": "ipython3",
   "version": "3.7.4"
  }
 },
 "nbformat": 4,
 "nbformat_minor": 2
}
