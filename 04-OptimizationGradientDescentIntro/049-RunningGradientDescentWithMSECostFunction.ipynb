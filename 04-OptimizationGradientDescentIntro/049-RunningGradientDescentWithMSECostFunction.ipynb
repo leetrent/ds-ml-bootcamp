{
 "cells": [
  {
   "cell_type": "code",
   "execution_count": 1,
   "metadata": {},
   "outputs": [],
   "source": [
    "import numpy as np"
   ]
  },
  {
   "cell_type": "markdown",
   "metadata": {},
   "source": [
    "### MSE function:"
   ]
  },
  {
   "cell_type": "code",
   "execution_count": 2,
   "metadata": {},
   "outputs": [],
   "source": [
    "def mse(y, y_hat):\n",
    "    return ( 1 / y.size ) * sum((y - y_hat)**2)"
   ]
  },
  {
   "cell_type": "markdown",
   "metadata": {},
   "source": [
    "## Create Data:"
   ]
  },
  {
   "cell_type": "markdown",
   "metadata": {},
   "source": [
    "#### Create 1D arrays:"
   ]
  },
  {
   "cell_type": "code",
   "execution_count": 3,
   "metadata": {},
   "outputs": [],
   "source": [
    "x_5 = np.array([0.1, 1.2, 2.4, 3.2, 4.1, 5.7, 6.5])\n",
    "y_5 = np.array([1.7, 2.4, 3.5, 3.0, 6.1, 9.4, 8.2])"
   ]
  },
  {
   "cell_type": "markdown",
   "metadata": {},
   "source": [
    "#### Create 2D arrays from 1D arrays:"
   ]
  },
  {
   "cell_type": "code",
   "execution_count": 4,
   "metadata": {},
   "outputs": [],
   "source": [
    "#########################################################\n",
    "# Equivalent ways of converting a 1D array into a 2D array:\n",
    "#########################################################\n",
    "x_5 = np.array([[0.1, 1.2, 2.4, 3.2, 4.1, 5.7, 6.5]]).transpose()\n",
    "y_5 = np.array([1.7, 2.4, 3.5, 3.0, 6.1, 9.4, 8.2]).reshape(7, 1)"
   ]
  },
  {
   "cell_type": "code",
   "execution_count": 5,
   "metadata": {},
   "outputs": [],
   "source": [
    "nbr_thetas = 200"
   ]
  },
  {
   "cell_type": "code",
   "execution_count": 6,
   "metadata": {},
   "outputs": [],
   "source": [
    "theta_0 = np.linspace(start=-1, stop=3, num=nbr_thetas)\n",
    "theta_1 = np.linspace(start=-1, stop=3, num=nbr_thetas)"
   ]
  },
  {
   "cell_type": "markdown",
   "metadata": {},
   "source": [
    "## Partial Derivative of MSE for $\\theta_0$:\n",
    "## $$\\frac{\\partial MSE}{\\partial \\theta_0} = - \\frac{2}{n} \\sum_{i=1}^{n} \\big( y^ {(i)} - \\theta_0 - \\theta_1 x^{(i)} \\big)$$"
   ]
  },
  {
   "cell_type": "markdown",
   "metadata": {},
   "source": [
    "## Partial Derivative of MSE for $\\theta_1$:\n",
    "## $$\\frac{\\partial MSE}{\\partial \\theta_1} = - \\frac{2}{n} \\sum_{i=1}^{n} \\big( y^ {(i)} - \\theta_0 - \\theta_1 x^{(i)} \\big) \\big( x^{(i)} \\big)$$"
   ]
  },
  {
   "cell_type": "markdown",
   "metadata": {},
   "source": [
    "## MSE & Gradient Descent function:"
   ]
  },
  {
   "cell_type": "markdown",
   "metadata": {},
   "source": [
    "**Inputs:**\n",
    "1. x values\n",
    "2. y values\n",
    "3. array of theta parameters (theta_0 at index 0 and theta_1 at index 1)"
   ]
  },
  {
   "cell_type": "code",
   "execution_count": 7,
   "metadata": {},
   "outputs": [],
   "source": [
    "def grad(x, y, thetas):\n",
    "    n = y.size\n",
    "    theta0_slope = (-2/n) * sum(  y - thetas[0] - thetas[1] * x)\n",
    "    theta1_slope = (-2/n) * sum( (y - thetas[0] - thetas[1] * x) * x )\n",
    "    \n",
    "    ###########################################\n",
    "    # Equivalent ways of combining two arrarys:\n",
    "    ###########################################\n",
    "    #return np.array( [ theta0_slope[0], theta1_slope[0] ] )\n",
    "    #return np.append( arr=theta0_slope, values=theta1_slope \n",
    "    return np.concatenate( (theta0_slope, theta1_slope) )\n",
    "    \n",
    "    "
   ]
  },
  {
   "cell_type": "code",
   "execution_count": 8,
   "metadata": {},
   "outputs": [],
   "source": [
    "multiplier = 0.01\n",
    "thetas = np.array([2.9, 2.9])\n",
    "\n",
    "for i in range(1000):\n",
    "    thetas = thetas - multiplier * grad(x_5, y_5, thetas)"
   ]
  },
  {
   "cell_type": "markdown",
   "metadata": {},
   "source": [
    "#### Print Results:"
   ]
  },
  {
   "cell_type": "code",
   "execution_count": 12,
   "metadata": {},
   "outputs": [
    {
     "name": "stdout",
     "output_type": "stream",
     "text": [
      "Theta 0 Minimum: 0.8532230461743415\n",
      "Theta 1 Minimum: 1.2214935332607393\n",
      "MSE............: [0.94797511]\n"
     ]
    }
   ],
   "source": [
    "print('Theta 0 Minimum:', thetas[0])\n",
    "print('Theta 1 Minimum:', thetas[1])\n",
    "print('MSE............:', mse(y_5, thetas[0] + thetas[1] * x_5))"
   ]
  },
  {
   "cell_type": "code",
   "execution_count": null,
   "metadata": {},
   "outputs": [],
   "source": []
  }
 ],
 "metadata": {
  "kernelspec": {
   "display_name": "Python 3",
   "language": "python",
   "name": "python3"
  },
  "language_info": {
   "codemirror_mode": {
    "name": "ipython",
    "version": 3
   },
   "file_extension": ".py",
   "mimetype": "text/x-python",
   "name": "python",
   "nbconvert_exporter": "python",
   "pygments_lexer": "ipython3",
   "version": "3.7.4"
  }
 },
 "nbformat": 4,
 "nbformat_minor": 2
}
