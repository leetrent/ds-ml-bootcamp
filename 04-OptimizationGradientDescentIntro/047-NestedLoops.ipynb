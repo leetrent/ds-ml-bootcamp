{
 "cells": [
  {
   "cell_type": "markdown",
   "metadata": {},
   "source": [
    "### Create data for thetas:"
   ]
  },
  {
   "cell_type": "code",
   "execution_count": 1,
   "metadata": {},
   "outputs": [],
   "source": [
    "import numpy as np"
   ]
  },
  {
   "cell_type": "code",
   "execution_count": 2,
   "metadata": {},
   "outputs": [],
   "source": [
    "nbr_thetas = 5\n",
    "theta_0 = np.linspace(start=-1, stop=3, num=nbr_thetas)\n",
    "theta_1 = np.linspace(start=-1, stop=3, num=nbr_thetas)"
   ]
  },
  {
   "cell_type": "markdown",
   "metadata": {},
   "source": [
    "#### theta_0 and theta_1 are one-dimensional:"
   ]
  },
  {
   "cell_type": "code",
   "execution_count": 3,
   "metadata": {},
   "outputs": [
    {
     "name": "stdout",
     "output_type": "stream",
     "text": [
      "(5,)\n",
      "[-1.  0.  1.  2.  3.]\n",
      "\n",
      "(5,)\n",
      "[-1.  0.  1.  2.  3.]\n"
     ]
    }
   ],
   "source": [
    "print(theta_0.shape)\n",
    "print(theta_0)\n",
    "print()\n",
    "print(theta_1.shape)\n",
    "print(theta_1)"
   ]
  },
  {
   "cell_type": "markdown",
   "metadata": {},
   "source": [
    "#### Convert to two dimensions:"
   ]
  },
  {
   "cell_type": "code",
   "execution_count": 4,
   "metadata": {},
   "outputs": [],
   "source": [
    "plot_t0, plot_t1 = np.meshgrid(theta_0, theta_1)"
   ]
  },
  {
   "cell_type": "code",
   "execution_count": 5,
   "metadata": {},
   "outputs": [
    {
     "name": "stdout",
     "output_type": "stream",
     "text": [
      "(5, 5)\n",
      "[[-1.  0.  1.  2.  3.]\n",
      " [-1.  0.  1.  2.  3.]\n",
      " [-1.  0.  1.  2.  3.]\n",
      " [-1.  0.  1.  2.  3.]\n",
      " [-1.  0.  1.  2.  3.]]\n",
      "\n",
      "(5, 5)\n",
      "[[-1. -1. -1. -1. -1.]\n",
      " [ 0.  0.  0.  0.  0.]\n",
      " [ 1.  1.  1.  1.  1.]\n",
      " [ 2.  2.  2.  2.  2.]\n",
      " [ 3.  3.  3.  3.  3.]]\n"
     ]
    }
   ],
   "source": [
    "print(plot_t0.shape)\n",
    "print(plot_t0)\n",
    "print()\n",
    "print(plot_t1.shape)\n",
    "print(plot_t1)"
   ]
  },
  {
   "cell_type": "markdown",
   "metadata": {},
   "source": [
    "### Nested for loop practice:"
   ]
  },
  {
   "cell_type": "code",
   "execution_count": 6,
   "metadata": {},
   "outputs": [
    {
     "name": "stdout",
     "output_type": "stream",
     "text": [
      "[0][0]\n",
      "[0][1]\n",
      "[0][2]\n",
      "\n",
      "[1][0]\n",
      "[1][1]\n",
      "[1][2]\n",
      "\n",
      "[2][0]\n",
      "[2][1]\n",
      "[2][2]\n"
     ]
    }
   ],
   "source": [
    "for i in range(3):\n",
    "    if i != 0:\n",
    "        print()\n",
    "    for j in range(3):\n",
    "        print(f'[{i}][{j}]')"
   ]
  },
  {
   "cell_type": "markdown",
   "metadata": {},
   "source": [
    "#### Create a 2D arrays of just zeros:"
   ]
  },
  {
   "cell_type": "code",
   "execution_count": 7,
   "metadata": {},
   "outputs": [
    {
     "name": "stdout",
     "output_type": "stream",
     "text": [
      "(5, 5)\n",
      "[[0. 0. 0. 0. 0.]\n",
      " [0. 0. 0. 0. 0.]\n",
      " [0. 0. 0. 0. 0.]\n",
      " [0. 0. 0. 0. 0.]\n",
      " [0. 0. 0. 0. 0.]]\n"
     ]
    }
   ],
   "source": [
    "plot_cost = np.zeros( (nbr_thetas, nbr_thetas) )\n",
    "print(plot_cost.shape)\n",
    "print(plot_cost)"
   ]
  },
  {
   "cell_type": "markdown",
   "metadata": {},
   "source": [
    "#### Print row values (horizontal):"
   ]
  },
  {
   "cell_type": "code",
   "execution_count": 8,
   "metadata": {},
   "outputs": [
    {
     "name": "stdout",
     "output_type": "stream",
     "text": [
      "-1.0\n",
      "0.0\n",
      "1.0\n",
      "2.0\n",
      "3.0\n",
      "\n",
      "-1.0\n",
      "0.0\n",
      "1.0\n",
      "2.0\n",
      "3.0\n",
      "\n",
      "-1.0\n",
      "0.0\n",
      "1.0\n",
      "2.0\n",
      "3.0\n",
      "\n",
      "-1.0\n",
      "0.0\n",
      "1.0\n",
      "2.0\n",
      "3.0\n",
      "\n",
      "-1.0\n",
      "0.0\n",
      "1.0\n",
      "2.0\n",
      "3.0\n"
     ]
    }
   ],
   "source": [
    "for i in range(nbr_thetas):\n",
    "    if i != 0:\n",
    "        print()\n",
    "    for j in range(nbr_thetas):\n",
    "        print(plot_t0[i][j])"
   ]
  },
  {
   "cell_type": "markdown",
   "metadata": {},
   "source": [
    "#### Print column values (vertical):"
   ]
  },
  {
   "cell_type": "code",
   "execution_count": 9,
   "metadata": {},
   "outputs": [
    {
     "name": "stdout",
     "output_type": "stream",
     "text": [
      "-1.0\n",
      "-1.0\n",
      "-1.0\n",
      "-1.0\n",
      "-1.0\n",
      "\n",
      "0.0\n",
      "0.0\n",
      "0.0\n",
      "0.0\n",
      "0.0\n",
      "\n",
      "1.0\n",
      "1.0\n",
      "1.0\n",
      "1.0\n",
      "1.0\n",
      "\n",
      "2.0\n",
      "2.0\n",
      "2.0\n",
      "2.0\n",
      "2.0\n",
      "\n",
      "3.0\n",
      "3.0\n",
      "3.0\n",
      "3.0\n",
      "3.0\n"
     ]
    }
   ],
   "source": [
    "for i in range(nbr_thetas):\n",
    "    if i != 0:\n",
    "        print()\n",
    "    for j in range(nbr_thetas):\n",
    "        print(plot_t0[j][i])"
   ]
  },
  {
   "cell_type": "markdown",
   "metadata": {},
   "source": [
    "### Calculate MSE using nested for loops:"
   ]
  },
  {
   "cell_type": "code",
   "execution_count": null,
   "metadata": {},
   "outputs": [],
   "source": []
  }
 ],
 "metadata": {
  "kernelspec": {
   "display_name": "Python 3",
   "language": "python",
   "name": "python3"
  },
  "language_info": {
   "codemirror_mode": {
    "name": "ipython",
    "version": 3
   },
   "file_extension": ".py",
   "mimetype": "text/x-python",
   "name": "python",
   "nbconvert_exporter": "python",
   "pygments_lexer": "ipython3",
   "version": "3.7.4"
  }
 },
 "nbformat": 4,
 "nbformat_minor": 2
}
