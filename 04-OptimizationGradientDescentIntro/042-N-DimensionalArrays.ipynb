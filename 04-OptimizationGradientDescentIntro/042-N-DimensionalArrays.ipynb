{
 "cells": [
  {
   "cell_type": "markdown",
   "metadata": {},
   "source": [
    "### Partial derivative formula for x:\n",
    "### $$\\frac{\\partial f}{\\partial x} = \\frac{2x \\ln(3)\\cdot 3^{-x^2 - y^2}} {\\left(3^ {-x^2 - y^2} + 1\\right)^2} $$\n",
    "### Partial derivative formula for y:\n",
    "### $$\\frac{\\partial f}{\\partial y} = \\frac{2y \\ln(3)\\cdot 3^{-x^2 - y^2}} {\\left(3^ {-x^2 - y^2} + 1\\right)^2} $$"
   ]
  },
  {
   "cell_type": "code",
   "execution_count": 1,
   "metadata": {},
   "outputs": [],
   "source": [
    "from math import log\n",
    "import numpy as np"
   ]
  },
  {
   "cell_type": "markdown",
   "metadata": {},
   "source": [
    "### Partial derivative function for x:"
   ]
  },
  {
   "cell_type": "code",
   "execution_count": 2,
   "metadata": {},
   "outputs": [],
   "source": [
    "def fpx(x, y):\n",
    "    r = 3**(-x**2 - y**2)\n",
    "    numerator = 2*x*log(3) * r\n",
    "    denominator = (r + 1)**2\n",
    "    return numerator / denominator"
   ]
  },
  {
   "cell_type": "markdown",
   "metadata": {},
   "source": [
    "### Partial derivative function for y:"
   ]
  },
  {
   "cell_type": "code",
   "execution_count": 3,
   "metadata": {},
   "outputs": [],
   "source": [
    "def fpy(x, y):\n",
    "    r = 3**(-x**2 - y**2)\n",
    "    numerator = 2*y*log(3) * r\n",
    "    denominator = (r + 1)**2\n",
    "    return numerator / denominator"
   ]
  },
  {
   "cell_type": "markdown",
   "metadata": {},
   "source": [
    "### Cost function:"
   ]
  },
  {
   "cell_type": "code",
   "execution_count": 4,
   "metadata": {},
   "outputs": [],
   "source": [
    "def f(x, y):\n",
    "    r = 3**(-x**2 -y**2)\n",
    "    return 1 / (r + 1)"
   ]
  },
  {
   "cell_type": "markdown",
   "metadata": {},
   "source": [
    "### Graphing 3D Gradient Descent & Advanced Numpy Arrays:"
   ]
  },
  {
   "cell_type": "markdown",
   "metadata": {},
   "source": [
    "#### Declare variables:"
   ]
  },
  {
   "cell_type": "code",
   "execution_count": 5,
   "metadata": {},
   "outputs": [
    {
     "name": "stdout",
     "output_type": "stream",
     "text": [
      "[1.8 1. ]\n",
      "(1, 2)\n",
      "[[1.8 1. ]]\n"
     ]
    }
   ],
   "source": [
    "multiplier = 0.1 # learning rate\n",
    "max_iter = 500\n",
    "initial_x = 1.8\n",
    "initial_y = 1.0\n",
    "params = np.array([initial_x, initial_y]) # initial guess\n",
    "print(params)\n",
    "values_array = params.reshape(1, 2)\n",
    "print(values_array.shape)\n",
    "print(values_array)"
   ]
  },
  {
   "cell_type": "code",
   "execution_count": 6,
   "metadata": {},
   "outputs": [
    {
     "name": "stdout",
     "output_type": "stream",
     "text": [
      "Gradient array values.....: [2.01013038e-11 1.11673910e-11]\n",
      "Minimum for 'x' occurs at.: 3.458385998858304e-11\n",
      "Minimum for 'y' occurs at.: 1.9213255549212797e-11\n",
      "Cost......................: 0.5\n"
     ]
    }
   ],
   "source": [
    "for nbr in range(max_iter):\n",
    "    \n",
    "    # Calculate cost: how far away we are from\n",
    "    # the minimum based on the steepness of slope.\n",
    "    gradient_x = fpx(params[0], params[1])\n",
    "    gradient_y = fpy(params[0], params[1])\n",
    "    gradients = np.array([gradient_x, gradient_y])\n",
    "    \n",
    "    # LEARNING STEP: UPDATE PARAMETERS\n",
    "    # Multiply each element in the gradients array\n",
    "    # by the multipier (learning rate) and subtract\n",
    "    # the result from the respective values currently\n",
    "    # in the params array.\n",
    "    params = params - multiplier * gradients\n",
    "    \n",
    "# Gradient Descent Algorithm Results:\n",
    "print('Gradient array values.....:', gradients)\n",
    "print('Minimum for \\'x\\' occurs at.:', params[0])\n",
    "print('Minimum for \\'y\\' occurs at.:', params[1])\n",
    "print('Cost......................:', f(params[0], params[1]))\n",
    "    "
   ]
  },
  {
   "cell_type": "markdown",
   "metadata": {},
   "source": [
    "### Advanced Numpy Array Practice:"
   ]
  },
  {
   "cell_type": "markdown",
   "metadata": {},
   "source": [
    "#### 2-Dimensional Array (1 row, 2 columns):"
   ]
  },
  {
   "cell_type": "code",
   "execution_count": 7,
   "metadata": {},
   "outputs": [
    {
     "name": "stdout",
     "output_type": "stream",
     "text": [
      "(1, 2)\n",
      "[['Captain' 'Guitar']]\n"
     ]
    }
   ],
   "source": [
    "kirk = np.array([['Captain', 'Guitar']])\n",
    "print(kirk.shape)\n",
    "print(kirk)"
   ]
  },
  {
   "cell_type": "markdown",
   "metadata": {},
   "source": [
    "#### 2-Dimensional Array (2 rows, 2 columns):"
   ]
  },
  {
   "cell_type": "code",
   "execution_count": 8,
   "metadata": {},
   "outputs": [
    {
     "name": "stdout",
     "output_type": "stream",
     "text": [
      "(2, 2)\n",
      "[['Black Thought' 'MC']\n",
      " ['Questlove' 'Drums']]\n"
     ]
    }
   ],
   "source": [
    "hs_band = np.array([ ['Black Thought', 'MC'], ['Questlove', 'Drums']])\n",
    "print(hs_band.shape)\n",
    "print(hs_band)"
   ]
  },
  {
   "cell_type": "markdown",
   "metadata": {},
   "source": [
    "#### Accessing rows in 2-dimensional arrary:"
   ]
  },
  {
   "cell_type": "code",
   "execution_count": 9,
   "metadata": {},
   "outputs": [
    {
     "name": "stdout",
     "output_type": "stream",
     "text": [
      "['Black Thought' 'MC']\n",
      "['Questlove' 'Drums']\n",
      "\n",
      "for loop:\n",
      "1 ['Black Thought' 'MC']\n",
      "2 ['Questlove' 'Drums']\n"
     ]
    }
   ],
   "source": [
    "print(hs_band[0])\n",
    "print(hs_band[1])\n",
    "print(\"\\nfor loop:\")\n",
    "counter = 0\n",
    "for row in hs_band:\n",
    "    counter += 1\n",
    "    print(counter, row)"
   ]
  },
  {
   "cell_type": "markdown",
   "metadata": {},
   "source": [
    "#### Accessing specific columns in 2-dimensional arrary:"
   ]
  },
  {
   "cell_type": "code",
   "execution_count": 10,
   "metadata": {},
   "outputs": [
    {
     "name": "stdout",
     "output_type": "stream",
     "text": [
      "Black Thought\n",
      "MC\n",
      "\n",
      "Questlove\n",
      "Drums\n"
     ]
    }
   ],
   "source": [
    "print(hs_band[0][0])\n",
    "print(hs_band[0][1])\n",
    "print()\n",
    "print(hs_band[1][0])\n",
    "print(hs_band[1][1])"
   ]
  },
  {
   "cell_type": "markdown",
   "metadata": {},
   "source": [
    "#### Accessing specific columns in 2-dimensional arrary using a for loop:"
   ]
  },
  {
   "cell_type": "code",
   "execution_count": 11,
   "metadata": {},
   "outputs": [
    {
     "name": "stdout",
     "output_type": "stream",
     "text": [
      "Black Thought\n",
      "MC\n",
      "Questlove\n",
      "Drums\n"
     ]
    }
   ],
   "source": [
    "for row in hs_band:\n",
    "    for column in row:\n",
    "        print(column)"
   ]
  },
  {
   "cell_type": "markdown",
   "metadata": {},
   "source": [
    "#### Append to Numpy array:"
   ]
  },
  {
   "cell_type": "code",
   "execution_count": 12,
   "metadata": {},
   "outputs": [
    {
     "name": "stdout",
     "output_type": "stream",
     "text": [
      "kirk.shape......: (1, 2)\n",
      "hs_band.shape...: (2, 2)\n",
      "the_roots.shape.: (3, 2)\n",
      "\n",
      "[['Captain' 'Guitar']]\n",
      "\n",
      "[['Black Thought' 'MC']\n",
      " ['Questlove' 'Drums']]\n",
      "\n",
      "[['Black Thought' 'MC']\n",
      " ['Questlove' 'Drums']\n",
      " ['Captain' 'Guitar']]\n"
     ]
    }
   ],
   "source": [
    "print('kirk.shape......:', kirk.shape)\n",
    "print('hs_band.shape...:', hs_band.shape)\n",
    "\n",
    "the_roots = np.append(arr=hs_band, values=kirk, axis=0)\n",
    "print('the_roots.shape.:', the_roots.shape)\n",
    "print()\n",
    "print(kirk)\n",
    "print()\n",
    "print(hs_band)\n",
    "print()\n",
    "print(the_roots)"
   ]
  },
  {
   "cell_type": "markdown",
   "metadata": {},
   "source": [
    "#### Don't do this (the dimensions are jacked-up):"
   ]
  },
  {
   "cell_type": "code",
   "execution_count": 13,
   "metadata": {},
   "outputs": [],
   "source": [
    "#the_roots = np.append(arr=hs_band, values=kirk.reshape(2,1), axis=1)\n",
    "#print(the_roots.shape)\n",
    "#print(the_roots)"
   ]
  },
  {
   "cell_type": "markdown",
   "metadata": {},
   "source": [
    "#### Select first column in all the rows:"
   ]
  },
  {
   "cell_type": "code",
   "execution_count": 14,
   "metadata": {},
   "outputs": [
    {
     "name": "stdout",
     "output_type": "stream",
     "text": [
      "[['Black Thought' 'MC']\n",
      " ['Questlove' 'Drums']\n",
      " ['Captain' 'Guitar']]\n",
      "\n",
      "['Black Thought' 'Questlove' 'Captain']\n"
     ]
    }
   ],
   "source": [
    "print(the_roots)\n",
    "print()\n",
    "print(the_roots[:,0])"
   ]
  },
  {
   "cell_type": "markdown",
   "metadata": {},
   "source": [
    "#### Select second column in all the rows:"
   ]
  },
  {
   "cell_type": "code",
   "execution_count": 15,
   "metadata": {},
   "outputs": [
    {
     "name": "stdout",
     "output_type": "stream",
     "text": [
      "[['Black Thought' 'MC']\n",
      " ['Questlove' 'Drums']\n",
      " ['Captain' 'Guitar']]\n",
      "\n",
      "['MC' 'Drums' 'Guitar']\n"
     ]
    }
   ],
   "source": [
    "print(the_roots)\n",
    "print()\n",
    "print(the_roots[:,1])"
   ]
  },
  {
   "cell_type": "markdown",
   "metadata": {},
   "source": [
    "#### Append to Numpy array (again):"
   ]
  },
  {
   "cell_type": "code",
   "execution_count": 16,
   "metadata": {},
   "outputs": [
    {
     "name": "stdout",
     "output_type": "stream",
     "text": [
      "the_roots (before append):\n",
      "[['Black Thought' 'MC']\n",
      " ['Questlove' 'Drums']\n",
      " ['Captain' 'Guitar']]\n",
      "\n",
      "the_roots (after append):\n",
      "[['Black Thought' 'MC']\n",
      " ['Questlove' 'Drums']\n",
      " ['Captain' 'Guitar']\n",
      " ['Malik B' 'MC']]\n"
     ]
    }
   ],
   "source": [
    "print('the_roots (before append):')\n",
    "print(the_roots)\n",
    "\n",
    "the_roots = np.append(arr=the_roots, values=[['Malik B', 'MC']], axis=0)\n",
    "\n",
    "print()\n",
    "print('the_roots (after append):')\n",
    "print(the_roots)"
   ]
  },
  {
   "cell_type": "markdown",
   "metadata": {},
   "source": [
    "#### Access specific columns in all rows:"
   ]
  },
  {
   "cell_type": "code",
   "execution_count": 18,
   "metadata": {},
   "outputs": [
    {
     "name": "stdout",
     "output_type": "stream",
     "text": [
      "[['Black Thought' 'MC']\n",
      " ['Questlove' 'Drums']\n",
      " ['Captain' 'Guitar']\n",
      " ['Malik B' 'MC']]\n",
      "\n",
      "['Black Thought' 'Questlove' 'Captain' 'Malik B']\n",
      "\n",
      "['MC' 'Drums' 'Guitar' 'MC']\n"
     ]
    }
   ],
   "source": [
    "print(the_roots)\n",
    "print()\n",
    "print(the_roots[:,0])\n",
    "print()\n",
    "print(the_roots[:,1])"
   ]
  },
  {
   "cell_type": "code",
   "execution_count": null,
   "metadata": {},
   "outputs": [],
   "source": []
  }
 ],
 "metadata": {
  "kernelspec": {
   "display_name": "Python 3",
   "language": "python",
   "name": "python3"
  },
  "language_info": {
   "codemirror_mode": {
    "name": "ipython",
    "version": 3
   },
   "file_extension": ".py",
   "mimetype": "text/x-python",
   "name": "python",
   "nbconvert_exporter": "python",
   "pygments_lexer": "ipython3",
   "version": "3.7.4"
  }
 },
 "nbformat": 4,
 "nbformat_minor": 2
}
